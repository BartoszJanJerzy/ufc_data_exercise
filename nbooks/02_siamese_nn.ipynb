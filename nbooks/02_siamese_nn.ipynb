{
 "cells": [
  {
   "cell_type": "code",
   "execution_count": null,
   "metadata": {},
   "outputs": [],
   "source": [
    "import os\n",
    "os.chdir(r\"D:\\PythonApps\\ufc_complete_dataset\")"
   ]
  },
  {
   "cell_type": "code",
   "execution_count": null,
   "metadata": {},
   "outputs": [],
   "source": [
    "import mlflow\n",
    "\n",
    "import torch\n",
    "import torch.nn as nn\n",
    "import torch.optim as optim\n",
    "from torch.utils.data import DataLoader, TensorDataset\n",
    "\n",
    "import pandas as pd\n",
    "import numpy as np\n",
    "\n",
    "from sklearn.preprocessing import MinMaxScaler\n",
    "from sklearn.metrics import accuracy_score, mean_absolute_error\n",
    "\n",
    "from dataclasses import dataclass\n",
    "from tqdm import tqdm\n",
    "from IPython.core.display import HTML\n",
    "from IPython.display import display\n",
    "\n",
    "import plotly.express as px\n",
    "import plotly.graph_objects as go\n",
    "from plotly.subplots import make_subplots"
   ]
  },
  {
   "cell_type": "code",
   "execution_count": null,
   "metadata": {},
   "outputs": [],
   "source": [
    "import warnings\n",
    "warnings.filterwarnings('ignore')"
   ]
  },
  {
   "cell_type": "code",
   "execution_count": null,
   "metadata": {},
   "outputs": [],
   "source": [
    "mlflow.set_tracking_uri(\"file:///tmp/mlflow_siamese\")"
   ]
  },
  {
   "cell_type": "markdown",
   "metadata": {},
   "source": [
    "# Prepare dataset"
   ]
  },
  {
   "cell_type": "code",
   "execution_count": null,
   "metadata": {},
   "outputs": [],
   "source": [
    "df = pd.read_csv(\"resources/df_features.csv\", index_col=0)\n",
    "df.sample(5)"
   ]
  },
  {
   "cell_type": "code",
   "execution_count": null,
   "metadata": {},
   "outputs": [],
   "source": [
    "df.columns"
   ]
  },
  {
   "cell_type": "code",
   "execution_count": null,
   "metadata": {},
   "outputs": [],
   "source": [
    "df[\"is_red_winner\"] = df[\"winner\"].apply(lambda x: 1 if x == \"Red\" else 0)"
   ]
  },
  {
   "cell_type": "code",
   "execution_count": null,
   "metadata": {},
   "outputs": [],
   "source": [
    "feature_cols = [\n",
    "'fighter_hist_wins',\n",
    "'fighter_hist_looses', \n",
    "'fighter_hist_total',\n",
    "'fighter_title_fights', \n",
    "'wins_ratio', \n",
    "'tf_ratio',\n",
    "'wins_streak',\n",
    "'lost_streak',\n",
    "'SLpM_norm', \n",
    "'sig_str_acc_norm', \n",
    "'SApM_norm',\n",
    "'str_def_norm', \n",
    "'td_avg_norm', \n",
    "'td_acc_norm',\n",
    "'significant_strikes', \n",
    "'damage_defense', \n",
    "'offensive_grappling',\n",
    "'defensive_grappling', \n",
    "'submissions'\n",
    "]\n",
    "r_features = [f\"r_{x}\" for x in feature_cols]\n",
    "b_features = [f\"b_{x}\" for x in feature_cols]\n",
    "\n",
    "x_cols = r_features + b_features\n",
    "target = \"is_red_winner\""
   ]
  },
  {
   "cell_type": "markdown",
   "metadata": {},
   "source": [
    "## Delete records with no data"
   ]
  },
  {
   "cell_type": "code",
   "execution_count": null,
   "metadata": {},
   "outputs": [],
   "source": [
    "is_empty_data = []\n",
    "for i in range(len(df)):\n",
    "    row = df.iloc[i][x_cols].to_list()\n",
    "    is_empty = True\n",
    "    for x in row:\n",
    "        if bool(x):\n",
    "            is_empty = False\n",
    "            break\n",
    "    is_empty_data.append(is_empty)\n",
    "\n",
    "df[\"is_empty\"] = is_empty_data\n",
    "diff_df = df[df[\"is_empty\"] == False].reset_index(drop=True).drop(\"is_empty\", axis=1)"
   ]
  },
  {
   "cell_type": "markdown",
   "metadata": {},
   "source": [
    "## Normalization"
   ]
  },
  {
   "cell_type": "code",
   "execution_count": null,
   "metadata": {},
   "outputs": [],
   "source": [
    "scaler = MinMaxScaler()\n",
    "df[x_cols] = scaler.fit_transform(df[x_cols])"
   ]
  },
  {
   "cell_type": "code",
   "execution_count": null,
   "metadata": {},
   "outputs": [],
   "source": [
    "df.sample(5)"
   ]
  },
  {
   "cell_type": "markdown",
   "metadata": {},
   "source": [
    "## Train / test split"
   ]
  },
  {
   "cell_type": "code",
   "execution_count": null,
   "metadata": {},
   "outputs": [],
   "source": [
    "class SNNDataset(torch.utils.data.Dataset):\n",
    "\n",
    "    def __init__(self, x1, x2, y):\n",
    "        self.x1 = x1\n",
    "        self.x2 = x2\n",
    "        self.y = y\n",
    "        assert x1.shape == x2.shape\n",
    "    \n",
    "    def __len__(self):\n",
    "        return len(self.x1)\n",
    "    \n",
    "    def __getitem__(self, idx):\n",
    "        return self.x1[idx], self.x2[idx], self.y[idx]"
   ]
  },
  {
   "cell_type": "code",
   "execution_count": null,
   "metadata": {},
   "outputs": [],
   "source": [
    "train_df = df[:-200]\n",
    "test_df = df[-200:]\n",
    "\n",
    "\n",
    "x1_train = torch.tensor(train_df[r_features].astype(float).to_numpy(), dtype=torch.float32)\n",
    "x2_train = torch.tensor(train_df[b_features].astype(float).to_numpy(), dtype=torch.float32)\n",
    "y_train = torch.tensor(train_df[target].astype(float).to_numpy(), dtype=torch.float32)\n",
    "\n",
    "x1_test = torch.tensor(test_df[r_features].astype(float).to_numpy(), dtype=torch.float32)\n",
    "x2_test = torch.tensor(test_df[b_features].astype(float).to_numpy(), dtype=torch.float32)\n",
    "y_test = torch.tensor(test_df[target].astype(float).to_numpy(), dtype=torch.float32)\n",
    "\n",
    "\n",
    "print(\"x1_train\", x1_train.shape)\n",
    "print(\"x2_train\", x2_train.shape)\n",
    "print(\"x1_test\", x1_test.shape)\n",
    "print(\"x2_test\", x2_test.shape)\n",
    "print(\"y_train\", y_train.shape)\n",
    "print(\"y_test\", y_test.shape)"
   ]
  },
  {
   "cell_type": "code",
   "execution_count": null,
   "metadata": {},
   "outputs": [],
   "source": [
    "train_dataset = SNNDataset(x1_train, x2_train, y_train)\n",
    "test_dataset = SNNDataset(x1_test, x2_test, y_test)"
   ]
  },
  {
   "cell_type": "markdown",
   "metadata": {},
   "source": [
    "# Siamese Model\n",
    "- 2 linear layers to process fighters' vectors\n",
    "- dot product to compare these vectors\n",
    "- linear layer as an output"
   ]
  },
  {
   "cell_type": "code",
   "execution_count": null,
   "metadata": {},
   "outputs": [],
   "source": [
    "@dataclass(frozen=True)\n",
    "class SNNParams:\n",
    "    input_size: int = 19\n",
    "    hidden_size: int = 19**2\n",
    "    output_size: int = 1\n",
    "    diff_function: str = \"diff\"  # diff"
   ]
  },
  {
   "cell_type": "code",
   "execution_count": null,
   "metadata": {},
   "outputs": [],
   "source": [
    "class SNN(nn.Module):\n",
    "\n",
    "    def __init__(self, params = SNNParams()):\n",
    "        super(SNN, self).__init__()\n",
    "        self.params = params\n",
    "        self.fc = nn.Sequential(\n",
    "            nn.Linear(self.params.input_size, self.params.hidden_size),\n",
    "            nn.ReLU(),\n",
    "            nn.Linear(self.params.hidden_size, self.params.hidden_size),\n",
    "            nn.ReLU(),\n",
    "            nn.Linear(self.params.hidden_size, self.params.hidden_size),\n",
    "            nn.ReLU()\n",
    "        )\n",
    "        self.output = nn.Sequential(\n",
    "            nn.Linear(self.params.hidden_size, self.params.hidden_size),\n",
    "            nn.Dropout(0.1),\n",
    "            nn.ReLU(),\n",
    "            nn.Linear(self.params.hidden_size, self.params.output_size)\n",
    "        )\n",
    "    \n",
    "    def forward(self, x1: torch.tensor, x2: torch.tensor):\n",
    "        x1 = self.fc(x1)\n",
    "        x2 = self.fc(x2)\n",
    "        diff = self._diff(x1, x2)\n",
    "        return torch.sigmoid(self.output(diff))\n",
    "    \n",
    "    def _diff(self, x1, x2):\n",
    "        match self.params.diff_function:\n",
    "            case \"dot\":\n",
    "                result = x1 * x2\n",
    "            case \"diff\":\n",
    "                result = x1 - x2\n",
    "            case _:\n",
    "                raise ValueError(f\"Unknown diff function: {self.params.diff_function}\")\n",
    "        return result\n"
   ]
  },
  {
   "cell_type": "markdown",
   "metadata": {},
   "source": [
    "# Training utils"
   ]
  },
  {
   "cell_type": "code",
   "execution_count": null,
   "metadata": {},
   "outputs": [],
   "source": [
    "def train_epoch(model, dataloader, optimizer, criterion):\n",
    "    model.train()\n",
    "    total_loss = 0\n",
    "    for x1, x2, y in dataloader:\n",
    "        optimizer.zero_grad()\n",
    "        output = model(x1, x2)[0]\n",
    "        loss = criterion(output, y)\n",
    "        loss.backward()\n",
    "        optimizer.step()\n",
    "        total_loss += loss.item()\n",
    "        \n",
    "    avg_loss = total_loss / len(dataloader)\n",
    "    \n",
    "    return model, avg_loss\n",
    "\n",
    "\n",
    "def val_epoch(model, dataloader, optimizer, criterion):\n",
    "    model.eval()\n",
    "    total_loss = 0\n",
    "    for x1, x2, y in dataloader:\n",
    "        optimizer.zero_grad()\n",
    "        output = model(x1, x2)[0]\n",
    "        loss = criterion(output, y)\n",
    "        total_loss += loss.item()\n",
    "        \n",
    "    avg_loss = total_loss / len(dataloader)\n",
    "    \n",
    "    return avg_loss\n",
    "\n",
    "\n",
    "def early_stoppage(loss_history: list[tuple[float, float]], min_incr: float, last_epochs: int = 3) -> bool:\n",
    "    stop = False\n",
    "    val_loss_data = [x[1] for x in loss_history]\n",
    "    if len(loss_history) > last_epochs:\n",
    "        last_results = np.mean(val_loss_data[-last_epochs-1:])\n",
    "        diff = last_results - val_loss_data[-1]\n",
    "        if diff < min_incr:\n",
    "            stop = True\n",
    "            print(\"Early stoppage!\")\n",
    "    return stop\n",
    "            \n",
    "\n",
    "def train_and_validate(model, train_dataloader, val_dataloader, optimizer, criterion, training_params):\n",
    "    loss_history = []\n",
    "    for epoch in range(training_params.epochs):\n",
    "        model, train_loss = train_epoch(model, train_dataloader, optimizer, criterion,)\n",
    "        val_loss = val_epoch(model, val_dataloader, optimizer, criterion)\n",
    "        loss_history.append((train_loss, val_loss))\n",
    "        print(f\"Epoch {epoch+1}/{training_params.epochs}: train loss = {round(train_loss, 3)}, val loss = {round(val_loss, 3)}\")\n",
    "        if early_stoppage(loss_history, training_params.early_stoppage_min_incr, training_params.early_stoppage_last_epochs):\n",
    "            break\n",
    "    return model, loss_history"
   ]
  },
  {
   "cell_type": "markdown",
   "metadata": {},
   "source": [
    "# Training"
   ]
  },
  {
   "cell_type": "code",
   "execution_count": null,
   "metadata": {},
   "outputs": [],
   "source": [
    "@dataclass(frozen=True)\n",
    "class TrainingParams:\n",
    "    lr: float = 0.001\n",
    "    batch_size: int = 1\n",
    "    epochs: int = 50\n",
    "    early_stoppage_last_epochs: int = 5\n",
    "    early_stoppage_min_incr: float = 0.001\n",
    "\n",
    "\n",
    "training_params = TrainingParams()"
   ]
  },
  {
   "cell_type": "code",
   "execution_count": null,
   "metadata": {},
   "outputs": [],
   "source": [
    "model = SNN()\n",
    "criterion = nn.MSELoss()\n",
    "optimizer = optim.Adam(model.parameters(), lr=training_params.lr)\n",
    "\n",
    "\n",
    "train_dataloader = DataLoader(train_dataset, batch_size=training_params.batch_size, shuffle=False)\n",
    "val_dataloader = DataLoader(test_dataset, batch_size=training_params.batch_size, shuffle=False)\n",
    "\n",
    "\n",
    "model, loss_history = train_and_validate(model, train_dataloader, val_dataloader, optimizer, criterion, training_params)"
   ]
  },
  {
   "cell_type": "code",
   "execution_count": null,
   "metadata": {},
   "outputs": [],
   "source": [
    "fig = go.Figure()\n",
    "\n",
    "x = [i+1 for i in range(training_params.epochs)]\n",
    "fig.add_trace(\n",
    "    go.Scatter(\n",
    "        name=\"Train MSE\",\n",
    "        x=x,\n",
    "        y=[x[0] for x in loss_history],\n",
    "        # mode=\"lines\"\n",
    "    )\n",
    ")\n",
    "fig.add_trace(\n",
    "    go.Scatter(\n",
    "        name=\"Val MSE\",\n",
    "        x=x,\n",
    "        y=[x[1] for x in loss_history],\n",
    "        # mode=\"lines\"\n",
    "    )\n",
    ")\n",
    "\n",
    "fig.update_layout(\n",
    "    title=\"Train history\",\n",
    "    xaxis_title=\"Epoch\",\n",
    "    yaxis_title=\"Loss\",\n",
    "    width=800,\n",
    "    height=700,\n",
    ")\n",
    "\n",
    "fig.show()"
   ]
  },
  {
   "cell_type": "code",
   "execution_count": null,
   "metadata": {},
   "outputs": [],
   "source": [
    "y_pred_train = model(x1_train, x2_train).ravel().detach().numpy()\n",
    "y_pred_test = model(x1_test, x2_test).ravel().detach().numpy()\n",
    "\n",
    "train_acc = accuracy_score(y_train, [1 if x > 0.5 else 0 for x in y_pred_train])\n",
    "test_acc = accuracy_score(y_test, [1 if x > 0.5 else 0 for x in y_pred_test])\n",
    "print(f\"train acc = {round(train_acc, 2)}\\ttest acc = {round(test_acc, 2)}\")\n",
    "\n",
    "train_mae = mean_absolute_error(y_train, y_pred_train)\n",
    "test_mae = mean_absolute_error(y_test, y_pred_test)\n",
    "print(f\"train mae = {round(train_mae, 2)}\\ttest mae = {round(test_mae, 2)}\")"
   ]
  },
  {
   "cell_type": "code",
   "execution_count": null,
   "metadata": {},
   "outputs": [],
   "source": []
  }
 ],
 "metadata": {
  "kernelspec": {
   "display_name": "venv",
   "language": "python",
   "name": "python3"
  },
  "language_info": {
   "codemirror_mode": {
    "name": "ipython",
    "version": 3
   },
   "file_extension": ".py",
   "mimetype": "text/x-python",
   "name": "python",
   "nbconvert_exporter": "python",
   "pygments_lexer": "ipython3",
   "version": "3.12.3"
  }
 },
 "nbformat": 4,
 "nbformat_minor": 2
}
